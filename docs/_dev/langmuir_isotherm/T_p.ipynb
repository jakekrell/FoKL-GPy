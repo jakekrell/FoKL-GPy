{
 "cells": [
  {
   "cell_type": "markdown",
   "metadata": {},
   "source": [
    "# Langmuir isotherm predictions improved by FoKL-GPy in benchmark comparison of temperature-dependent model\n",
    "\n",
    "---\n",
    "\n",
    "## Abstract\n",
    "\n",
    "Expanding *Langmuir isotherm predictions improved by FoKL-GPy in benchmark comparison* to include temperature, the site fraction at any temperature and pressure pair may be predicted.\n",
    "\n",
    "---\n",
    "\n",
    "## Contents\n",
    "\n",
    "- 1\n",
    "- 2\n",
    "- 3\n",
    "\n",
    "---\n",
    "\n",
    "## Method\n",
    "\n",
    "From *Langmuir isotherm predictions improved by FoKL-GPy in benchmark comparison*, the following is known and will provide the Gaussian process (GP) model $\\mathbf{GP}$ trained on $\\Delta$ as a function of the inverse of temperature $T$ and the natural logarithim of pressure $p$.\n",
    "\n",
    "$\\begin{equation}\\tag{1} \\mathbf{GP} = \\{\\Delta\\ |\\ T^{-1},\\ \\ln(p)\\} \\end{equation}$\n",
    "\n",
    "$\\begin{equation}\\tag{2} \\Delta = \\ln(\\sigma_1) \\end{equation}$\n",
    "\n",
    "$\\begin{equation}\\tag{3} \\sigma_1 = \\frac{q}{\\mu(q_{max}-q)} \\end{equation}$\n",
    "\n",
    "$\\begin{equation}\\tag{4} \\mu = \\frac{p}{\\sqrt{2 \\pi M R T}} \\end{equation}$\n",
    "\n",
    "$\\begin{equation}\\tag{5} q_{max} = b \\end{equation}$\n",
    "\n",
    "The following is also known and will provide predictions of $q$, termed $q_{cal}$, from the GP.\n",
    "\n",
    "$\\begin{equation}\\tag{6} q_{cal} = \\frac{\\sigma_{1, cal} q_{max} \\mu}{1 + \\sigma_{1, cal} \\mu} \\end{equation}$\n",
    "\n",
    "$\\begin{equation}\\tag{7} \\sigma_{1, cal} = \\exp(\\mathbf{GP}) \\end{equation}$\n",
    "\n",
    "The values of $q_{cal}$ found with the GP may then be compared to $q_{cal}$ of Langmuir's mica experiment; specifically, for $N_2$. The experimental measurements of $q(p)$ for $N_2$ may be found in Table II ($90 \\text{ K}$) and Table X ($155 \\text{ K}$), though this data has been copied to *N2.txt*.\n",
    "\n",
    "---\n",
    "\n",
    "## Implementation:\n",
    "\n",
    "Importing modules and defining constants:"
   ]
  },
  {
   "cell_type": "code",
   "execution_count": 1,
   "metadata": {},
   "outputs": [
    {
     "name": "stderr",
     "output_type": "stream",
     "text": [
      "/home/jacobpatrick/.local/lib/python3.12/site-packages/matplotlib/projections/__init__.py:63: UserWarning: Unable to import Axes3D. This may be due to multiple versions of Matplotlib being installed (e.g. as a system package and as a pip package). As a result, the 3D projection is not available.\n",
      "  warnings.warn(\"Unable to import Axes3D. This may be due to multiple versions of \"\n"
     ]
    }
   ],
   "source": [
    "import os\n",
    "import sys\n",
    "sys.path.append(os.path.join('..', '..', '..'))  # include local path (i.e., this package)\n",
    "from src.FoKL import FoKLRoutines\n",
    "import numpy as np\n",
    "import matplotlib.pyplot as plt\n",
    "from tabulate import tabulate\n",
    "\n",
    "\n",
    "SI_scale = True\n",
    "logscale = True\n",
    "save = False\n",
    "\n",
    "M = 0.0280134  # molecular weight of N2, kg / mol\n",
    "if SI_scale is True:\n",
    "    R = 8.31446261815324  # universal gas constant, J / (K * mol)\n",
    "else:\n",
    "    R = 8314462.61815324  # universal gas constant, mN mm / (K * mol)"
   ]
  },
  {
   "cell_type": "markdown",
   "metadata": {},
   "source": [
    "Loading and parsing the data:"
   ]
  },
  {
   "cell_type": "code",
   "execution_count": 2,
   "metadata": {},
   "outputs": [],
   "source": [
    "data = np.loadtxt(os.path.join('data', 'N2.txt'), skiprows=1)\n",
    "\n",
    "T = data[:, 0]\n",
    "p = data[:, 1]\n",
    "q = data[:, 2]\n",
    "a_linear = data[:, 3]  # for plotting linear fit\n",
    "qmax = data[:, 4]  # == b\n",
    "qcal_linear = data[:, 5]  # for benchmark comparison"
   ]
  },
  {
   "cell_type": "markdown",
   "metadata": {},
   "source": [
    "Defining equations:"
   ]
  },
  {
   "cell_type": "code",
   "execution_count": 3,
   "metadata": {},
   "outputs": [],
   "source": [
    "def eq2(sigma1):\n",
    "    \"\"\"Delta\"\"\"\n",
    "    return np.log(sigma1)\n",
    "\n",
    "def eq3(q, mu, qmax):\n",
    "    \"\"\"sigma1\"\"\"\n",
    "    return q / mu / (qmax - q)\n",
    "\n",
    "def eq4(p, M, R, T):\n",
    "    \"\"\"mu\"\"\"\n",
    "    return p / np.sqrt(2 * np.pi * M * R * T)"
   ]
  },
  {
   "cell_type": "markdown",
   "metadata": {},
   "source": [
    "Calculating the training data $\\{\\Delta\\ |\\ T^{-1},\\ \\ln(p)\\}$:"
   ]
  },
  {
   "cell_type": "code",
   "execution_count": 4,
   "metadata": {},
   "outputs": [],
   "source": [
    "mu = eq4(p, M, R, T)\n",
    "sigma1 = eq3(q, mu, qmax)\n",
    "Delta = eq2(sigma1)\n",
    "\n",
    "inv_T = 1 / T\n",
    "ln_p = np.log(p)"
   ]
  },
  {
   "cell_type": "markdown",
   "metadata": {},
   "source": [
    "Training the GP model:"
   ]
  },
  {
   "cell_type": "code",
   "execution_count": 6,
   "metadata": {},
   "outputs": [
    {
     "name": "stderr",
     "output_type": "stream",
     "text": [
      "/home/jacobpatrick/FoKL-GPy/docs/_dev/langmuir_isotherm/../../../src/FoKL/FoKLRoutines.py:299: UserWarning: 'inputs' was transposed. Ignore if more datapoints than input variables, else set 'AutoTranspose=False' to disable.\n",
      "  warnings.warn(\"'inputs' was transposed. Ignore if more datapoints than input variables, else set \"\n"
     ]
    },
    {
     "name": "stdout",
     "output_type": "stream",
     "text": [
      "[1, -15.130113256172816]\n",
      "[2, -15.130113256172816]\n",
      "[2, -15.130113256172816]\n",
      "[3, -15.130113256172816]\n",
      "[3, -15.130113256172816]\n",
      "[4, -15.130113256172816]\n",
      "[4, -15.130113256172816]\n",
      "[4, -15.531740084434627]\n",
      "[5, -15.531740084434627]\n",
      "[5, -15.531740084434627]\n",
      "[5, -15.531740084434627]\n",
      "[6, -15.531740084434627]\n",
      "[6, -15.531740084434627]\n",
      "[6, -15.632623916360416]\n",
      "[6, -15.632623916360416]\n",
      "[7, -24.686210667603234]\n",
      "[7, -409.5710379492436]\n",
      "[7, -409.5710379492436]\n",
      "[7, -134.2176436974426]\n",
      "[8, -134.2176436974426]\n",
      "[8, -134.2176436974426]\n",
      "[8, -134.2176436974426]\n",
      "[8, -134.2176436974426]\n",
      "[8, -134.2176436974426]\n",
      "[9, -135.83340390407747]\n",
      "[9, -135.83340390407747]\n",
      "[9, -135.83340390407747]\n",
      "[9, -96.86621831745401]\n",
      "[9, -96.86621831745401]\n"
     ]
    }
   ],
   "source": [
    "model = FoKLRoutines.FoKL(kernel=1)\n",
    "_ = model.fit([inv_T, ln_p], Delta, tolerance=12, clean=True)"
   ]
  },
  {
   "cell_type": "markdown",
   "metadata": {},
   "source": [
    "Stuff:"
   ]
  },
  {
   "cell_type": "markdown",
   "metadata": {},
   "source": [
    "NEW DATASET TO USE SO THAT MULTIPLE TEMPS ARE AVAILABLE:\n",
    "\n",
    "-  https://link.springer.com/article/10.1007/s11356-023-31820-x\n",
    "    - fig 1\n",
    "        - points to: https://www.sciencedirect.com/science/article/pii/S138589471000731X\n",
    "            - couldn't find dataset at first glance"
   ]
  }
 ],
 "metadata": {
  "kernelspec": {
   "display_name": "Python 3",
   "language": "python",
   "name": "python3"
  },
  "language_info": {
   "codemirror_mode": {
    "name": "ipython",
    "version": 3
   },
   "file_extension": ".py",
   "mimetype": "text/x-python",
   "name": "python",
   "nbconvert_exporter": "python",
   "pygments_lexer": "ipython3",
   "version": "3.12.3"
  }
 },
 "nbformat": 4,
 "nbformat_minor": 2
}
