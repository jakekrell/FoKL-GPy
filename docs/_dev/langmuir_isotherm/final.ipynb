{
 "cells": [
  {
   "cell_type": "markdown",
   "metadata": {},
   "source": [
    "# Use of FoKL-GPy's symbolic Gaussian process in improved fitting of Langmuir isotherm adsorption model parameters\n",
    "\n",
    "---\n",
    "\n",
    "## Background\n",
    "\n",
    "The Langmuir isotherm is\n",
    "$\\theta_1 = \\frac{q}{q_{max}} = \\frac{\\sigma_1 \\mu}{1 + \\sigma_1 \\mu}$\n",
    "where\n",
    "$\\mu = \\frac{m}{M} = \\frac{p}{\\sqrt{2 \\pi M R T}}$.\n",
    "\n",
    "Rearranging,\n",
    "$q = \\frac{\\sigma_1 q_{max} \\mu}{1 + \\sigma_1 \\mu}$.\n",
    "\n",
    "For varying pressure $p$ at constant temperature $T$, it is typically assumed that $\\sigma_1$ is constant such that\n",
    "$\\sigma_1 \\mu = a p$.\n",
    "\n",
    "This assumption, together with $b \\equiv q_{max}$, enable\n",
    "$\\frac{p}{q} = \\frac{1}{b}p + \\frac{1}{ab}$\n",
    "which is just $y=mx+b$ such that a linear fit of measurements $q(p)$ provides constant values $a$ and $b$ at constant $T$.\n",
    "\n",
    "---\n",
    "\n",
    "## The Case for FoKL-GPy\n",
    "\n",
    "Examining more closely reveals\n",
    "$\\sigma_1 \\mu = \\sigma_1 \\frac{p}{\\sqrt{2 \\pi M R T}} \\implies a = \\frac{\\sigma_1}{\\sqrt{2 \\pi M R T}}$.\n",
    "\n",
    "Unless reaction rates $\\alpha$ and $\\nu_1$ are constant with respect to pressure, since $\\sigma_1 = \\frac{\\alpha}{\\nu_1}$, the typical assumption that $a$ is constant at $T$ may be improved with the modeling of a Gaussian process (GP). In other words, at constant $T$, assuming $a$ is constant is equivalent to assuming $\\sigma_1$ is constant.\n",
    "\n",
    "Examining the reaction rates as expressed in the relative life,\n",
    "$\\sigma_1 = \\frac{\\alpha}{\\nu_1} = \\frac{\\exp(\\Delta_f G / RT)}{\\exp(\\Delta_r G / RT)} = \\exp(\\frac{\\Delta_f G - \\Delta_r G}{RT})$.\n",
    "\n",
    "Since Gibbs free energy $G$ is not independent of $p$, and therefore $\\sigma_1$ is not constant at constant $T$, $\\sigma_1$ may be more accurately modeled with a GP rather than linear fit. Furthermore, since a FoKL-GPy model may be embedded in Pyomo, additional chemistry constraints and an optimization objective may be included, though this is also possible with a linear Langmuir isotherm model.\n",
    "\n",
    "---\n",
    "\n",
    "## Outline of Method\n",
    "\n",
    "Langmuir's mica experiment contains measurements of $q$ for varying $p$ at constant $T$. He conducted this experiment at $T=90\\ \\text{K}$ and again at $T=155\\ \\text{K}$. Note the improvement enabled by a GP exists even for data obtained at a single temperature, but variations due to temperature may be captured too since the data is available.\n",
    "\n",
    "To ensure $\\sigma_1$ is positive such that the model has physical meaning, the GP model will be trained on the exponent of $\\sigma_1$ since the GP itself may not be constrained to positive values.\n",
    "\n",
    "That is, the FoKL-GPy model at constant $T$ would be $\\Delta \\equiv \\frac{\\Delta_f G - \\Delta_r G}{RT} = \\ln(\\sigma_1) \\propto p$. However, since data is available at multiple temperatures, the model will be expanded to $\\Delta \\propto (T, p)$ for demonstration. With the data limited to only two temperatures, it is not expected for the GP to provide accurate predictions except near $T=90\\ \\text{K}$ or $T=155\\ \\text{K}$.\n",
    "\n",
    "From the measurements, $\\sigma_1$ must first be calculated. Recall $q = \\frac{\\sigma_1 q_{max} \\mu}{1 + \\sigma_1 \\mu}$, which yields $\\sigma_1 = \\frac{q}{\\mu(q_{max}-q)}$. If $q_{max}$ is known, then $\\sigma_1$ may be solved for since $q$ is measured and $\\mu$ is a known function of $(T, p)$. Therefore, $q_{max}$ must be modeled or measured in some way.\n",
    "\n",
    "Taking $q_{max}$ to be the $b$ value from the linear fit as found by Langmuir, at least for this benchmark comparison, enables $\\sigma_1$ to be calculated. Note it is reasonable to assume $q_{max}$ is independent of $p$ since the driving force of the surface characteristics is $T$. So, despite $b$ being independent of $p$, there is no drawback. The place to improve here would be to measure or model $q_{max}$ in perhaps a more direct or accurate way. Measurements of $q$ after a long time, i.e., $\\frac{\\partial}{\\partial t}(q) \\approx 0$, could also provide values of $q_{max}$.\n",
    "\n",
    "## Implementation of Method\n",
    "\n",
    "Data from Langmuir's mica experiment, Tables II-VI and X, have been written to *csv* files *N2*, *CH4*, *CO*, *Ar*, and *O2*. For example, the *N2* dataset is as follows.\n",
    "\n",
    "| $T$     | $p$     | $q$     | $q_{max}$ | $q_{cal}$ |\n",
    "|---------|---------|---------|---------|---------|\n",
    "| 90      | 37.5    | 24.2    | 32.5    | 24.6    |\n",
    "| \"       | 25.7    | 22.7    | \"       | 22.4    |\n",
    "| \"       | 4.04    | 7.55    | \"       | 8.3     |\n",
    "| \"       | 2.8     | 6.8     | \"       | 6.2     |\n",
    "| 155     | 65.8    | 6.2     | 11.8    | 6.3     |\n",
    "| \"       | 37.5    | 4.8     | \"       | 4.7     |\n",
    "| \"       | 3.9     | 0.43    | \"       | 0.75    |\n",
    "| \"       | 2.2     | 0.43    | \"       | 0.43    |\n",
    "\n",
    "Note that to fill in values of $q$ for *CO*, *Ar*, and *O2*, where $q_{obs}$ is missing in the Tables, Equation 31 was used with $(p,a,b)$ values as listed in the Tables. Also note $q_{cal}$ is included for benchmark comparison, but is not used for the FoKL-GPy model.\n",
    "\n",
    "Nomenclature:\n",
    "| Langmuir | FoKL-GPy |\n",
    "|---|---|\n",
    "| $q_{obs}$ | $q \\implies$ ```q``` |\n",
    "| $b$ | $q_{max} \\implies$ ```qmax``` |\n",
    "| $q_{cal}$ | $q_{cal} \\implies$ ```qcal``` |\n",
    "\n",
    "---\n",
    "\n",
    "Importing modules and defining constants:"
   ]
  },
  {
   "cell_type": "code",
   "execution_count": null,
   "metadata": {},
   "outputs": [],
   "source": [
    "from FoKL import FoKLRoutines\n",
    "import pyomo.environ as pyo\n",
    "import numpy as np\n",
    "\n",
    "\n",
    "gases = ['N2', 'CH4', 'CO', 'Ar', 'O2']\n",
    "M = 1\n",
    "R = 1"
   ]
  },
  {
   "cell_type": "markdown",
   "metadata": {},
   "source": [
    "Loading the data:"
   ]
  },
  {
   "cell_type": "code",
   "execution_count": null,
   "metadata": {},
   "outputs": [],
   "source": [
    "data = {}\n",
    "for gas in gases:\n",
    "    data.update({gas: np.readtxt(f\"{gas}.csv\", delimiter=',')})"
   ]
  },
  {
   "cell_type": "markdown",
   "metadata": {},
   "source": [
    "Parsing the data:"
   ]
  },
  {
   "cell_type": "code",
   "execution_count": null,
   "metadata": {},
   "outputs": [],
   "source": [
    "T = {}\n",
    "p = {}\n",
    "q = {}\n",
    "qmax = {}\n",
    "qcal = {}  # for benchmark comparison\n",
    "for gas in gases:\n",
    "    T.update({gas: data[gas][:, 0]})\n",
    "    p.update({gas: data[gas][:, 1]})\n",
    "    q.update({gas: data[gas][:, 2]})\n",
    "    qmax.update({gas: data[gas][:, 3]})\n",
    "    qcal.update({gas: data[gas][:, 4]})"
   ]
  },
  {
   "cell_type": "markdown",
   "metadata": {},
   "source": [
    "Calculating $mu$ and $sigma_1$:"
   ]
  },
  {
   "cell_type": "code",
   "execution_count": null,
   "metadata": {},
   "outputs": [],
   "source": [
    "mu = {}\n",
    "sigma1 = {}\n",
    "for gas in gases:\n",
    "    mu.update({gas: p[gas] /np.sqrt(2 * np.pi * M * R * T[gas])})\n",
    "    sigma1.update({gas: q[gas] / mu[gas] / (qmax[gas] - q[gas])})"
   ]
  },
  {
   "cell_type": "markdown",
   "metadata": {},
   "source": [
    "Initializing FoKL-GPy models with continuous basis functions, i.e., ```kernel=1```:"
   ]
  },
  {
   "cell_type": "code",
   "execution_count": null,
   "metadata": {},
   "outputs": [],
   "source": [
    "N2 = FoKLRoutines.FoKL(kernel=1)\n",
    "CH4 = FoKLRoutines.FoKL(kernel=1)\n",
    "CO = FoKLRoutines.FoKL(kernel=1)\n",
    "Ar = FoKLRoutines.FoKL(kernel=1)\n",
    "O2 = FoKLRoutines.FoKL(kernel=1)\n",
    "\n",
    "models = [N2, CH4, CO, Ar, O2]"
   ]
  },
  {
   "cell_type": "markdown",
   "metadata": {},
   "source": [
    "Train FoKL-GPy models on $\\Delta \\propto (T^{-1}, \\ln(p))$:"
   ]
  },
  {
   "cell_type": "code",
   "execution_count": null,
   "metadata": {},
   "outputs": [],
   "source": [
    "i = 0\n",
    "Delta = {}\n",
    "for gas in gases:\n",
    "    Delta.update({gas: np.log(sigma1[gas])})\n",
    "    models[i].fit([1 / T[gas], np.log(p[gas])], Delta[gas], clean=True)\n",
    "    i += 1"
   ]
  },
  {
   "cell_type": "markdown",
   "metadata": {},
   "source": [
    "Convert to Pyomo:"
   ]
  },
  {
   "cell_type": "code",
   "execution_count": null,
   "metadata": {},
   "outputs": [],
   "source": [
    "Deltas = []\n",
    "for gas in gases:\n",
    "    Deltas.append(f\"{gas}_Delta\")  # variable name of Delta per gas in Pyomo\n",
    "\n",
    "m = fokl_to_pyomo.fokl_to_pyomo(models, ['inv_T', 'ln_p'] * len(gases), Deltas, truescale=True)  # Pyomo model"
   ]
  },
  {
   "cell_type": "markdown",
   "metadata": {},
   "source": [
    "Expand upon Pyomo model:\n",
    "\n",
    "1. $\\sigma_1 = \\exp(\\Delta)$\n",
    "2. $q = \\frac{\\sigma_1 q_{max} \\mu}{\\sigma_1 \\mu}$\n",
    "3. $\\theta_1 = \\frac{q}{q_{max}}$"
   ]
  },
  {
   "cell_type": "code",
   "execution_count": null,
   "metadata": {},
   "outputs": [],
   "source": [
    "m.T = pyo.Var()\n",
    "m.p = pyo.Var()\n",
    "m.mu = pyo.Var()\n",
    "\n",
    "for gas in gases:\n",
    "    for var in ['sigma1', 'qmax', 'q', 'theta1']:\n",
    "        m.add_component(f\"{gas}_{var}\", pyo.Var())\n",
    "\n",
    "    m.eq1 = pyo.Constraint(m.component(f\"{gas}_sigma1\") == exp(m.component(f\"{gas}_Delta\")))\n",
    "    m.eq2 = pyo.Constraint(m.component(f\"{gas}_q\") == m.component(f\"{gas}_sigma1\") * m.component(f\"{gas}_qmax\") * m.mu / (1 + m.component(f\"{gas}_sigma1\") * m.mu))\n",
    "    m.eq3 = pyo.Constraint(m.component(f\"{gas}_theta1\") == m.component(f\"{gas}_q\") / m.component(f\"{gas}_qmax\"))"
   ]
  },
  {
   "cell_type": "markdown",
   "metadata": {},
   "source": [
    "Finally, since a model of $q_{max}$ is being included, training FoKL_GPy models:"
   ]
  },
  {
   "cell_type": "code",
   "execution_count": null,
   "metadata": {},
   "outputs": [],
   "source": [
    "N2_qmax = FoKLRoutines.FoKL(kernel=1)\n",
    "CH4_qmax = FoKLRoutines.FoKL(kernel=1)\n",
    "CO_qmax = FoKLRoutines.FoKL(kernel=1)\n",
    "Ar_qmax = FoKLRoutines.FoKL(kernel=1)\n",
    "O2_qmax = FoKLRoutines.FoKL(kernel=1)\n",
    "\n",
    "models_qmax = [N2_qmax, CH4_qmax, CO_qmax, Ar_qmax, O2_qmax]\n",
    "\n",
    "i = 0\n",
    "for gas in gases:\n",
    "    models_qmax[i].fit(T[gas], qmax[gas], clean=True)  # only T because using b == qmax, where b(T)\n",
    "    i += 1"
   ]
  },
  {
   "cell_type": "markdown",
   "metadata": {},
   "source": [
    "Appending FoKL-GPy models to pre-existing Pyomo model:"
   ]
  },
  {
   "cell_type": "code",
   "execution_count": null,
   "metadata": {},
   "outputs": [],
   "source": [
    "# # Convert one-by-one:\n",
    "# for model_qmax in models_qmax:\n",
    "#     model_qmax.to_pyomo('T', f\"{gas}_qmax\", truescale=True, m=m)\n",
    "\n",
    "# Or, convert all at once with less function calls (preferred):\n",
    "qmaxs = []\n",
    "for gas in gases:\n",
    "    qmaxs.append(f\"{gas}_qmax\")\n",
    "fokl_to_pyomo.fokl_to_pyomo(models_qmax, ['T'] * len(gases), qmaxs, truescale=True, m=m)"
   ]
  },
  {
   "cell_type": "markdown",
   "metadata": {},
   "source": [
    "Now, the Pyomo model is ready for any additional chemistry constraints or other additions.\n",
    "\n",
    "To compare against the benchmark data, $q$ will be evaluated in Pyomo at the $(T, p)$ values."
   ]
  },
  {
   "cell_type": "code",
   "execution_count": null,
   "metadata": {},
   "outputs": [],
   "source": [
    "results = {}\n",
    "for gas in gases:\n",
    "    for i in len(data[gas].shape[0]):\n",
    "        m.T.fix(T[gas][i])\n",
    "        m.p.fix(p[gas][i])\n",
    "\n",
    "        results.update({f\"{gas}_q_{i}\": m.component(f\"{gas}_q\")(), f\"{gas}_theta1_{i}\": m.component(f\"{gas}_theta1\")()})  # only q is for benchmark comparison, but theta1 may be desired for practical applications"
   ]
  },
  {
   "cell_type": "markdown",
   "metadata": {},
   "source": [
    "Print results:"
   ]
  },
  {
   "cell_type": "code",
   "execution_count": null,
   "metadata": {},
   "outputs": [],
   "source": [
    "for gas in gases:\n",
    "    print(f\"\\nResults for {gas}...\")\n",
    "    for in in len(data[gas].shape[0]):\n",
    "        print(results[f\"{gas}_q_{i}\"])"
   ]
  }
 ],
 "metadata": {
  "language_info": {
   "name": "python"
  }
 },
 "nbformat": 4,
 "nbformat_minor": 2
}
